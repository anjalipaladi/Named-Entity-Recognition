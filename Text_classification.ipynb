{
  "nbformat": 4,
  "nbformat_minor": 0,
  "metadata": {
    "colab": {
      "private_outputs": true,
      "provenance": [],
      "authorship_tag": "ABX9TyNuuofv1Ux1I9VAvFm0l+Aq",
      "include_colab_link": true
    },
    "kernelspec": {
      "name": "python3",
      "display_name": "Python 3"
    },
    "language_info": {
      "name": "python"
    }
  },
  "cells": [
    {
      "cell_type": "markdown",
      "metadata": {
        "id": "view-in-github",
        "colab_type": "text"
      },
      "source": [
        "<a href=\"https://colab.research.google.com/github/anjalipaladi/Named-Entity-Recognition/blob/main/Text_classification.ipynb\" target=\"_parent\"><img src=\"https://colab.research.google.com/assets/colab-badge.svg\" alt=\"Open In Colab\"/></a>"
      ]
    },
    {
      "cell_type": "code",
      "execution_count": null,
      "metadata": {
        "id": "T9mQH9ejUcB8"
      },
      "outputs": [],
      "source": [
        "import pandas as pd\n",
        "dataset=pd.read_csv('hate_speech.csv')\n",
        "dataset.head()"
      ]
    },
    {
      "cell_type": "code",
      "source": [
        "dataset.shape"
      ],
      "metadata": {
        "id": "f5z_lZjlUyFe"
      },
      "execution_count": null,
      "outputs": []
    },
    {
      "cell_type": "code",
      "source": [
        "dataset.label.value_counts()"
      ],
      "metadata": {
        "id": "Ak_3LKTcUyuO"
      },
      "execution_count": null,
      "outputs": []
    },
    {
      "cell_type": "code",
      "source": [
        "for index,tweet in enumerate(dataset[\"tweet\"][10:15]):\n",
        "  print(index+1,\"-\",tweet)"
      ],
      "metadata": {
        "id": "IFnfbICQU2GC"
      },
      "execution_count": null,
      "outputs": []
    },
    {
      "cell_type": "code",
      "source": [
        "import re\n",
        "def clean_text(text):\n",
        "  text=re.sub(r'[^a-zA-Z\\']',' ',text)\n",
        "  text=re.sub(r'[^\\x00-\\x7F]+',\" \",text)\n",
        "  text=text.lower()\n",
        "  return text"
      ],
      "metadata": {
        "id": "icKCOs-2VTW3"
      },
      "execution_count": null,
      "outputs": []
    },
    {
      "cell_type": "code",
      "source": [
        "dataset[\"clean_text\"]=dataset.tweet.apply(lambda x: clean_text(x))"
      ],
      "metadata": {
        "id": "Q1wPi6m3WAo-"
      },
      "execution_count": null,
      "outputs": []
    },
    {
      "cell_type": "code",
      "source": [
        "dataset.head(10)"
      ],
      "metadata": {
        "id": "FUgubgA1WzlM"
      },
      "execution_count": null,
      "outputs": []
    },
    {
      "cell_type": "markdown",
      "source": [
        "3.Feature Engineering\n"
      ],
      "metadata": {
        "id": "wtxwcntWXO8A"
      }
    },
    {
      "cell_type": "code",
      "source": [
        "from nltk.corpus import stopwords\n",
        "len(stopwords.words('english'))"
      ],
      "metadata": {
        "id": "DYsmebD-XRzf"
      },
      "execution_count": null,
      "outputs": []
    },
    {
      "cell_type": "code",
      "source": [
        "import nltk\n",
        "nltk.download('stopwords')"
      ],
      "metadata": {
        "id": "PfW9h8GeXibS"
      },
      "execution_count": null,
      "outputs": []
    },
    {
      "cell_type": "code",
      "source": [
        "stop=stopwords.words('english')"
      ],
      "metadata": {
        "id": "9lXOvx3_YaYv"
      },
      "execution_count": null,
      "outputs": []
    },
    {
      "cell_type": "code",
      "source": [
        "def gen_freq(text):\n",
        "  word_list=[]\n",
        "  for tw_words in text.split():\n",
        "    word_list.extend(tw_words)\n",
        "  word_freq=pd.Series(word_list).value_counts()\n",
        "  word_freq-=word_freq.drop(stop,errors='ignore')\n",
        "  return word_freq"
      ],
      "metadata": {
        "id": "DPv3eRH0YeEp"
      },
      "execution_count": null,
      "outputs": []
    },
    {
      "cell_type": "code",
      "source": [
        "def any_neg(words):\n",
        "  for word in words:\n",
        "    if word in ['n','no','non','not'] or re.search(r\"\\wn't\",word):\n",
        "      return 1\n",
        "    else:\n",
        "      return 0"
      ],
      "metadata": {
        "id": "0RbmGYN8Y02F"
      },
      "execution_count": null,
      "outputs": []
    },
    {
      "cell_type": "code",
      "source": [
        "def any_rare(words,rare_100):\n",
        "  for word in words:\n",
        "    if word in rare_100:\n",
        "      return 1\n",
        "    else:\n",
        "      return 0"
      ],
      "metadata": {
        "id": "PVM7oWa2aYG9"
      },
      "execution_count": null,
      "outputs": []
    },
    {
      "cell_type": "code",
      "source": [
        "def is_question(words):\n",
        "  for word in words:\n",
        "    if word in ['when','what','how','why','who']:\n",
        "      return 1\n",
        "    else:\n",
        "      return 0"
      ],
      "metadata": {
        "id": "nTVdFzsrbDKb"
      },
      "execution_count": null,
      "outputs": []
    },
    {
      "cell_type": "code",
      "source": [
        "word_freq=gen_freq(dataset.clean_text.str)\n",
        "rare_100=word_freq[-100:]\n",
        "dataset['word_count']=dataset.clean_text.str.split().apply(lambda x: len(x))\n",
        "dataset['any_neg']=dataset.clean_text.str.split().apply(lambda x: any_neg(x))\n",
        "dataset['any_rare']=dataset.clean_text.str.split().apply(lambda x: any_rare(x,rare_100))\n",
        "dataset['is_question']=dataset.clean_text.str.split().apply(lambda x: is_question(x))\n",
        "dataset['char_count']=dataset.clean_text.apply(lambda x: len(x))"
      ],
      "metadata": {
        "id": "zlvRRthjbopV"
      },
      "execution_count": null,
      "outputs": []
    },
    {
      "cell_type": "code",
      "source": [
        "dataset.head(10)"
      ],
      "metadata": {
        "id": "rMUKmj4mc8mL"
      },
      "execution_count": null,
      "outputs": []
    },
    {
      "cell_type": "code",
      "source": [
        "from sklearn.model_selection import train_test_split\n",
        "X=dataset[['word_count','any_neg','any_rare','is_question']]\n",
        "y=dataset.label\n",
        "X_train,X_test,y_train,y_test=train_test_split(X,y,test_size=0.2,random_state=0)\n"
      ],
      "metadata": {
        "id": "26GpuZIfrKgZ"
      },
      "execution_count": null,
      "outputs": []
    },
    {
      "cell_type": "markdown",
      "source": [
        "4.Train an ML model for Text Classifictaion"
      ],
      "metadata": {
        "id": "FyHf1x4zrvL7"
      }
    },
    {
      "cell_type": "code",
      "source": [
        "from sklearn.naive_bayes import GaussianNB\n",
        "model=GaussianNB()\n",
        "model=model.fit(X_train,y_train)\n",
        "y_pred=model.predict(X_test)"
      ],
      "metadata": {
        "id": "PL-700cprsak"
      },
      "execution_count": null,
      "outputs": []
    },
    {
      "cell_type": "code",
      "source": [
        "model.predict(X_test[5:10])"
      ],
      "metadata": {
        "id": "vYxLw0s8tExf"
      },
      "execution_count": null,
      "outputs": []
    },
    {
      "cell_type": "code",
      "source": [
        "from sklearn.metrics import accuracy_score\n",
        "print(\"Accuracy:\",accuracy_score(y_test,y_pred)*100,\"%\")"
      ],
      "metadata": {
        "id": "qWIumoo6tiTR"
      },
      "execution_count": null,
      "outputs": []
    },
    {
      "cell_type": "code",
      "source": [
        "from sklearn.ensemble import RandomForestClassifier\n",
        "clf_rf=RandomForestClassifier()\n",
        "clf_rf.fit(X_train,y_train)\n",
        "rf_pred=clf_rf.predict(X_test).astype(int)"
      ],
      "metadata": {
        "id": "QyH3gAJ8vVYy"
      },
      "execution_count": null,
      "outputs": []
    },
    {
      "cell_type": "code",
      "source": [
        "from sklearn.metrics import classification_report,confusion_matrix,accuracy_score\n",
        "print(classification_report(y_test,rf_pred))\n",
        "print(confusion_matrix(y_test,rf_pred))\n",
        "print(\"Accuracy:\",accuracy_score(y_test,rf_pred))"
      ],
      "metadata": {
        "id": "djZO0S-SwCuu"
      },
      "execution_count": null,
      "outputs": []
    },
    {
      "cell_type": "code",
      "source": [
        "from sklearn.linear_model import LogisticRegression\n",
        "logreg=LogisticRegression(class_weight='balanced')\n",
        "\n",
        "logreg.fit(X_train,y_train)\n"
      ],
      "metadata": {
        "id": "ZJa36vQdxehI"
      },
      "execution_count": null,
      "outputs": []
    },
    {
      "cell_type": "code",
      "source": [
        "from sklearn.metrics import classification_report\n",
        "print(classification_report(y_test,y_pred))"
      ],
      "metadata": {
        "id": "lI5YYJFByPPT"
      },
      "execution_count": null,
      "outputs": []
    }
  ]
}