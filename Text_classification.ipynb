{
  "nbformat": 4,
  "nbformat_minor": 0,
  "metadata": {
    "colab": {
      "private_outputs": true,
      "provenance": [],
      "authorship_tag": "ABX9TyOBF/lyTA4Hb7b6ozan+5nc",
      "include_colab_link": true
    },
    "kernelspec": {
      "name": "python3",
      "display_name": "Python 3"
    },
    "language_info": {
      "name": "python"
    }
  },
  "cells": [
    {
      "cell_type": "markdown",
      "metadata": {
        "id": "view-in-github",
        "colab_type": "text"
      },
      "source": [
        "<a href=\"https://colab.research.google.com/github/anjalipaladi/Named-Entity-Recognition/blob/main/Text_classification.ipynb\" target=\"_parent\"><img src=\"https://colab.research.google.com/assets/colab-badge.svg\" alt=\"Open In Colab\"/></a>"
      ]
    },
    {
      "cell_type": "code",
      "execution_count": null,
      "metadata": {
        "id": "T9mQH9ejUcB8"
      },
      "outputs": [],
      "source": [
        "import pandas as pd\n",
        "dataset=pd.read_csv('hate_speech.csv')\n",
        "dataset.head()"
      ]
    },
    {
      "cell_type": "code",
      "source": [
        "dataset.shape\n"
      ],
      "metadata": {
        "id": "f5z_lZjlUyFe"
      },
      "execution_count": null,
      "outputs": []
    },
    {
      "cell_type": "code",
      "source": [
        "dataset.label.value_counts()"
      ],
      "metadata": {
        "id": "Ak_3LKTcUyuO"
      },
      "execution_count": null,
      "outputs": []
    },
    {
      "cell_type": "code",
      "source": [
        "for index,tweet in enumerate(dataset[\"tweet\"][10:15]):\n",
        "  print(index+1,\"-\",tweet)"
      ],
      "metadata": {
        "id": "IFnfbICQU2GC"
      },
      "execution_count": null,
      "outputs": []
    },
    {
      "cell_type": "code",
      "source": [
        "import re\n",
        "def clean_text(text):\n",
        "  text=re.sub(r'[^a-zA-Z\\']',' ',text)\n",
        "  text=re.sub(r'[^\\x00-\\x7F]+',\" \",text)\n",
        "  text=text.lower()\n",
        "  return text"
      ],
      "metadata": {
        "id": "icKCOs-2VTW3"
      },
      "execution_count": null,
      "outputs": []
    },
    {
      "cell_type": "code",
      "source": [
        "dataset[\"clean_text\"]=dataset.tweet.apply(lambda x: clean_text(x))"
      ],
      "metadata": {
        "id": "Q1wPi6m3WAo-"
      },
      "execution_count": null,
      "outputs": []
    },
    {
      "cell_type": "code",
      "source": [
        "dataset.head(10)"
      ],
      "metadata": {
        "id": "FUgubgA1WzlM"
      },
      "execution_count": null,
      "outputs": []
    },
    {
      "cell_type": "markdown",
      "source": [
        "3.Feature Engineering\n"
      ],
      "metadata": {
        "id": "wtxwcntWXO8A"
      }
    },
    {
      "cell_type": "code",
      "source": [
        "from nltk.corpus import stopwords\n",
        "len(stopwords.words('english'))"
      ],
      "metadata": {
        "id": "DYsmebD-XRzf"
      },
      "execution_count": null,
      "outputs": []
    },
    {
      "cell_type": "code",
      "source": [
        "import nltk\n",
        "nltk.download('stopwords')"
      ],
      "metadata": {
        "id": "PfW9h8GeXibS"
      },
      "execution_count": null,
      "outputs": []
    },
    {
      "cell_type": "code",
      "source": [
        "stop=stopwords.words('english')"
      ],
      "metadata": {
        "id": "9lXOvx3_YaYv"
      },
      "execution_count": null,
      "outputs": []
    },
    {
      "cell_type": "code",
      "source": [
        "def gen_freq(text):\n",
        "  word_list=[]\n",
        "  for tw_words in text.split():\n",
        "    word_list.extend(tw_words)\n",
        "  word_freq=pd.Series(word_list).value_counts()\n",
        "  word_freq-=word_freq.drop(stop,errors='ignore')\n",
        "  return word_freq"
      ],
      "metadata": {
        "id": "DPv3eRH0YeEp"
      },
      "execution_count": null,
      "outputs": []
    },
    {
      "cell_type": "code",
      "source": [
        "def any_neg(words):\n",
        "  for word in words:\n",
        "    if word in ['n','no','non','not'] or re.search(r\"\\wn't\",word):\n",
        "      return 1\n",
        "    else:\n",
        "      return 0"
      ],
      "metadata": {
        "id": "0RbmGYN8Y02F"
      },
      "execution_count": null,
      "outputs": []
    },
    {
      "cell_type": "code",
      "source": [
        "def any_rare(words,rare_100):\n",
        "  for word in words:\n",
        "    if word in rare_100:\n",
        "      return 1\n",
        "    else:\n",
        "      return 0"
      ],
      "metadata": {
        "id": "PVM7oWa2aYG9"
      },
      "execution_count": null,
      "outputs": []
    },
    {
      "cell_type": "code",
      "source": [
        "def is_question(words):\n",
        "  for word in words:\n",
        "    if word in ['when','what','how','why','who']:\n",
        "      return 1\n",
        "    else:\n",
        "      return 0"
      ],
      "metadata": {
        "id": "nTVdFzsrbDKb"
      },
      "execution_count": null,
      "outputs": []
    },
    {
      "cell_type": "code",
      "source": [],
      "metadata": {
        "id": "pLdFSWvWcWZK"
      },
      "execution_count": null,
      "outputs": []
    },
    {
      "cell_type": "code",
      "source": [
        "word_freq=gen_freq(dataset.clean_text.str)\n",
        "rare_100=word_freq[-100:]\n",
        "dataset['word_count']=dataset.clean_text.str.split().apply(lambda x: len(x))\n",
        "dataset['any_neg']=dataset.clean_text.str.split().apply(lambda x: any_neg(x))\n",
        "dataset['any_rare']=dataset.clean_text.str.split().apply(lambda x: any_rare(x,rare_100))\n",
        "dataset['is_question']=dataset.clean_text.str.split().apply(lambda x: is_question(x))\n",
        "dataset['char_count']=dataset.clean_text.apply(lambda x: len(x))"
      ],
      "metadata": {
        "id": "zlvRRthjbopV"
      },
      "execution_count": null,
      "outputs": []
    },
    {
      "cell_type": "code",
      "source": [],
      "metadata": {
        "id": "rMUKmj4mc8mL"
      },
      "execution_count": null,
      "outputs": []
    }
  ]
}