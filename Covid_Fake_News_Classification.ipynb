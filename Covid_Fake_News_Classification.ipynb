{
  "nbformat": 4,
  "nbformat_minor": 0,
  "metadata": {
    "colab": {
      "private_outputs": true,
      "provenance": [],
      "cell_execution_strategy": "setup",
      "authorship_tag": "ABX9TyOu1JYT1NHieu26RyMQcFuq",
      "include_colab_link": true
    },
    "kernelspec": {
      "name": "python3",
      "display_name": "Python 3"
    },
    "language_info": {
      "name": "python"
    }
  },
  "cells": [
    {
      "cell_type": "markdown",
      "metadata": {
        "id": "view-in-github",
        "colab_type": "text"
      },
      "source": [
        "<a href=\"https://colab.research.google.com/github/anjalipaladi/Named-Entity-Recognition/blob/main/Covid_Fake_News_Classification.ipynb\" target=\"_parent\"><img src=\"https://colab.research.google.com/assets/colab-badge.svg\" alt=\"Open In Colab\"/></a>"
      ]
    },
    {
      "cell_type": "code",
      "execution_count": null,
      "metadata": {
        "id": "UwRUVorsuLFI"
      },
      "outputs": [],
      "source": [
        "from nltk.stem.porter import PorterStemmer\n",
        "from sklearn.feature_extraction.text import TfidfVectorizer\n",
        "from sklearn.model_selection import train_test_split\n",
        "import pickle\n",
        "from sklearn.linear_model import LogisticRegressionCV\n",
        "import re\n",
        "import pandas as pd\n",
        "import warnings\n",
        "warnings.filterwarnings('ignore')"
      ]
    },
    {
      "cell_type": "code",
      "source": [
        "df=pd.read_csv(\"covid_fake.csv\")"
      ],
      "metadata": {
        "id": "_P8rhMLcuwcI"
      },
      "execution_count": null,
      "outputs": []
    },
    {
      "cell_type": "code",
      "source": [
        "df.head()"
      ],
      "metadata": {
        "id": "faoxx_HAtDQK"
      },
      "execution_count": null,
      "outputs": []
    },
    {
      "cell_type": "code",
      "source": [
        "df.shape"
      ],
      "metadata": {
        "id": "GteJIoUcuOS9"
      },
      "execution_count": null,
      "outputs": []
    },
    {
      "cell_type": "code",
      "source": [
        "df['label'].value_counts()"
      ],
      "metadata": {
        "id": "WgfrMIyzuPb2"
      },
      "execution_count": null,
      "outputs": []
    },
    {
      "cell_type": "code",
      "source": [
        "df.loc[5:15]"
      ],
      "metadata": {
        "id": "CONKnElxuUEO"
      },
      "execution_count": null,
      "outputs": []
    },
    {
      "cell_type": "code",
      "source": [
        "df.isna().sum()"
      ],
      "metadata": {
        "id": "nptq_XafuVrN"
      },
      "execution_count": null,
      "outputs": []
    },
    {
      "cell_type": "code",
      "source": [],
      "metadata": {
        "id": "ACKAPjz9wMm2"
      },
      "execution_count": null,
      "outputs": []
    },
    {
      "cell_type": "code",
      "source": [
        "df.loc[df['label']==\"Fake\",['label']]='FAKE'\n",
        "df.loc[df['label']==\"Fake\",['label']]='FAKE'\n",
        "df.loc[df['source']=='facebook',['source']]='Facebook'\n",
        "df.text.fillna(df.title,inplace=True)\n",
        "df.loc[5]['label']='FAKE'\n",
        "df.loc[15]['label']='TRUE'\n",
        "df.loc[43]['label']='FAKE'\n",
        "df.loc[131]['label']='TRUE'\n",
        "df.loc[242]['label']='FAKE'\n",
        "df.title.fillna('missing',inplace=True)\n",
        "df.source.fillna('missing',inplace=True)\n",
        "df['title_text']=df['title']+\"\"+df[\"text\"]"
      ],
      "metadata": {
        "id": "tv83Xv5XuYDC"
      },
      "execution_count": null,
      "outputs": []
    },
    {
      "cell_type": "code",
      "source": [
        "df.isna().sum()"
      ],
      "metadata": {
        "id": "z1ncSRH4uzk9"
      },
      "execution_count": null,
      "outputs": []
    },
    {
      "cell_type": "code",
      "source": [
        "df['label'].value_counts()"
      ],
      "metadata": {
        "id": "xCZDwma4x07A"
      },
      "execution_count": null,
      "outputs": []
    },
    {
      "cell_type": "code",
      "source": [
        "df.head()"
      ],
      "metadata": {
        "id": "XXKMQbfdx4HG"
      },
      "execution_count": null,
      "outputs": []
    },
    {
      "cell_type": "code",
      "source": [
        "df['title_text'][3]"
      ],
      "metadata": {
        "id": "W6vuwdE4yRll"
      },
      "execution_count": null,
      "outputs": []
    },
    {
      "cell_type": "code",
      "source": [
        "def preprocessor(text):\n",
        "  text=re.sub('<[^>]*>','',text)\n",
        "  text=re.sub(r'[^\\w\\s]','',text)\n",
        "  text=re.sub(r'[\\n]','',text)\n",
        "  text=text.lower()\n",
        "  return text\n",
        "df['title_text']=df['title_text'].apply(preprocessor)\n",
        "df['title_text'][3]"
      ],
      "metadata": {
        "id": "J7UJ2Vgayq0i"
      },
      "execution_count": null,
      "outputs": []
    },
    {
      "cell_type": "code",
      "source": [
        "porter=PorterStemmer()\n",
        "def tokenize_porter(text):\n",
        "  return [porter.stem(word) for word in text.split()]"
      ],
      "metadata": {
        "id": "KI6OV8OAze1f"
      },
      "execution_count": null,
      "outputs": []
    },
    {
      "cell_type": "markdown",
      "source": [
        "TF-IDF"
      ],
      "metadata": {
        "id": "39PKZ2i10-fr"
      }
    },
    {
      "cell_type": "code",
      "source": [
        "tfidf=TfidfVectorizer(strip_accents=None,\n",
        "                      lowercase=False,\n",
        "                      preprocessor=None,\n",
        "                      tokenizer=tokenize_porter,\n",
        "                      use_idf=True,\n",
        "                      norm='l2',\n",
        "                      smooth_idf=True)\n",
        "X=tfidf.fit_transform(df['title_text'])\n",
        "y=df.label.values"
      ],
      "metadata": {
        "id": "NM2HJHDj0_9R"
      },
      "execution_count": null,
      "outputs": []
    },
    {
      "cell_type": "code",
      "source": [
        "X.shape"
      ],
      "metadata": {
        "id": "S4_S6YSS1q-T"
      },
      "execution_count": null,
      "outputs": []
    },
    {
      "cell_type": "code",
      "source": [
        "X_train,X_test,y_train,y_test=train_test_split(X,y,random_state=0,test_size=0.3,shuffle=False)\n"
      ],
      "metadata": {
        "id": "4a8c_c5x15f8"
      },
      "execution_count": null,
      "outputs": []
    },
    {
      "cell_type": "code",
      "source": [
        "clf=LogisticRegressionCV(cv=5,scoring='accuracy',random_state=0,n_jobs=-1,verbose=0,max_iter=300)\n",
        "clf.fit(X_train,y_train)\n",
        "fake_news_model=open('fake_news_model.sav','wb')\n",
        "pickle.dump(clf,fake_news_model)\n",
        "fake_news_model.close()"
      ],
      "metadata": {
        "id": "v2DCFYH23TJM"
      },
      "execution_count": null,
      "outputs": []
    },
    {
      "cell_type": "markdown",
      "source": [
        "Model Evaluation"
      ],
      "metadata": {
        "id": "_tBY5fAL4umr"
      }
    },
    {
      "cell_type": "code",
      "source": [
        "filename='fake_news_model.sav'\n",
        "saved_clf=pickle.load(open(filename,'rb'))\n",
        "saved_clf.score(X_test,y_test)"
      ],
      "metadata": {
        "id": "1iFA4z5f35Sw"
      },
      "execution_count": null,
      "outputs": []
    },
    {
      "cell_type": "code",
      "source": [
        "from sklearn.metrics import classification_report,accuracy_score\n",
        "y_pred=clf.predict(X_test)\n",
        "print(\"---Test Set Results\")\n",
        "print(classification_report(y_test,y_pred))\n"
      ],
      "metadata": {
        "id": "bhdaA6HS4wn6"
      },
      "execution_count": null,
      "outputs": []
    },
    {
      "cell_type": "code",
      "source": [],
      "metadata": {
        "id": "Fy_tODUu5TG7"
      },
      "execution_count": null,
      "outputs": []
    }
  ]
}