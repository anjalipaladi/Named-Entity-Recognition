{
  "nbformat": 4,
  "nbformat_minor": 0,
  "metadata": {
    "colab": {
      "provenance": [],
      "authorship_tag": "ABX9TyM5WK/OV/7UMlOdSSeyl5Ii",
      "include_colab_link": true
    },
    "kernelspec": {
      "name": "python3",
      "display_name": "Python 3"
    },
    "language_info": {
      "name": "python"
    }
  },
  "cells": [
    {
      "cell_type": "markdown",
      "metadata": {
        "id": "view-in-github",
        "colab_type": "text"
      },
      "source": [
        "<a href=\"https://colab.research.google.com/github/anjalipaladi/Named-Entity-Recognition/blob/main/Web_Scraping.ipynb\" target=\"_parent\"><img src=\"https://colab.research.google.com/assets/colab-badge.svg\" alt=\"Open In Colab\"/></a>"
      ]
    },
    {
      "cell_type": "code",
      "execution_count": 1,
      "metadata": {
        "colab": {
          "base_uri": "https://localhost:8080/"
        },
        "id": "WgatsVMTd67Y",
        "outputId": "8d0dbfec-4693-4917-83f1-5d24697c0740"
      },
      "outputs": [
        {
          "output_type": "stream",
          "name": "stdout",
          "text": [
            "Requirement already satisfied: beautifulsoup4 in /usr/local/lib/python3.11/dist-packages (4.13.3)\n",
            "Requirement already satisfied: soupsieve>1.2 in /usr/local/lib/python3.11/dist-packages (from beautifulsoup4) (2.6)\n",
            "Requirement already satisfied: typing-extensions>=4.0.0 in /usr/local/lib/python3.11/dist-packages (from beautifulsoup4) (4.12.2)\n"
          ]
        }
      ],
      "source": [
        "!pip install beautifulsoup4"
      ]
    },
    {
      "cell_type": "code",
      "source": [
        "import requests\n",
        "from bs4 import BeautifulSoup\n",
        "url=\"http://quotes.toscrape.com/\"\n",
        "response=requests.get(url)\n",
        "if response.status_code==200:\n",
        "  soup=BeautifulSoup(response.text,'html.parser')\n",
        "\n",
        "  quotes=soup.find_all(\"div\",class_=\"quote\")\n",
        "  for i,quote in enumerate(quotes[:5]):\n",
        "    text=quote.find(\"span\",class_=\"text\").text\n",
        "    author=quote.find(\"small\",class_=\"author\").text\n",
        "    tags=[tag.text for tag in quote.find_all(\"a\",class_=\"tag\")]\n",
        "    print(f\"{i+1}.\\\"{text}\\\" - {author}\")\n",
        "    print(f\"Tags:{','.join(tags)}\\n\")\n",
        "  else:\n",
        "    print(f\"Failed to retrieve the webpage.Status Code:{response.status_code}\")\n"
      ],
      "metadata": {
        "colab": {
          "base_uri": "https://localhost:8080/"
        },
        "id": "KDKfOzKneHBx",
        "outputId": "71cd6f53-bca9-4b60-8004-b16b5a4f833c"
      },
      "execution_count": 4,
      "outputs": [
        {
          "output_type": "stream",
          "name": "stdout",
          "text": [
            "1.\"“The world as we have created it is a process of our thinking. It cannot be changed without changing our thinking.”\" - Albert Einstein\n",
            "Tags:change,deep-thoughts,thinking,world\n",
            "\n",
            "2.\"“It is our choices, Harry, that show what we truly are, far more than our abilities.”\" - J.K. Rowling\n",
            "Tags:abilities,choices\n",
            "\n",
            "3.\"“There are only two ways to live your life. One is as though nothing is a miracle. The other is as though everything is a miracle.”\" - Albert Einstein\n",
            "Tags:inspirational,life,live,miracle,miracles\n",
            "\n",
            "4.\"“The person, be it gentleman or lady, who has not pleasure in a good novel, must be intolerably stupid.”\" - Jane Austen\n",
            "Tags:aliteracy,books,classic,humor\n",
            "\n",
            "5.\"“Imperfection is beauty, madness is genius and it's better to be absolutely ridiculous than absolutely boring.”\" - Marilyn Monroe\n",
            "Tags:be-yourself,inspirational\n",
            "\n",
            "Failed to retrieve the webpage.Status Code:200\n"
          ]
        }
      ]
    },
    {
      "cell_type": "code",
      "source": [
        "import requests\n",
        "from bs4 import BeautifulSoup\n",
        "search_url = \"https://www.amazon.in/Rockerz-450-Wireless-Bluetooth-Headphone/dp/B07PR1CL3S/ref=sr_1_1_sspa?crid=6LCEHES13TFB&dib=eyJ2IjoiMSJ9.A0PbIpw4lZiwpXuA1phugymwXT040F34SkpYJDwRvpWJdWxtyCM94WZLbHwsTX2NwcgerbaUyNIRtcCZtc9mJwwUOG2FHaZakClYpMsM_gqgWxDc51Y2Icl79YhlVGoJFAmZ2pdA9AIloZF1KcBy1m4O_ag5108b2qOZtVC4xZ2ZzSE_S3MHukYrpKyY9n07k2km3AyUqfhy59i6rB26WvrG_uiuDXF-Ldxqz6p8d5Y.jO9LlfXAcD-le7mR6VIY8rycb49G1vbag9VBp5pJSdU&dib_tag=se&keywords=headphones&qid=1739857428&sprefix=headphones%2Caps%2C268&sr=8-1-spons&sp_csd=d2lkZ2V0TmFtZT1zcF9hdGY&th=1\"\n",
        "headers={\n",
        "    \"User=Agent\":\"Mozilla/5.0 (Windows NT 10.0; Win64; x64) AppleWebKit/537.36 (KHTML, like Gecko) Chrome/114.0.0.0 Safari/537.36\"\n",
        "}\n",
        "response = requests.get(search_url, headers=headers)\n",
        "soup = BeautifulSoup(response.text, 'html.parser')\n",
        "product = soup.select_one(\"span.a-size-medium\")\n",
        "price = soup.select_one(\"span.a-price-whole\")\n",
        "if product and price:\n",
        "  print(f\"Product: {product.text.strip()}\")\n",
        "  print(f\"Price: Rs.{price.text.strip()}\")\n",
        "else:\n",
        "  print(\"Could not find product details.\")"
      ],
      "metadata": {
        "colab": {
          "base_uri": "https://localhost:8080/"
        },
        "id": "dTXhBYuChwn0",
        "outputId": "30b4d1e7-2306-40ce-fbcb-7f35baf4bb2d"
      },
      "execution_count": 12,
      "outputs": [
        {
          "output_type": "stream",
          "name": "stdout",
          "text": [
            "Could not find product details.\n"
          ]
        }
      ]
    },
    {
      "cell_type": "code",
      "source": [
        "import requests\n",
        "from bs4 import BeautifulSoup\n",
        "url = \"https://en.wikipedia.org/wiki/List_of_countries_and_dependencies_by_population\"\n",
        "response = requests.get(url, headers=headers)\n",
        "soup = BeautifulSoup(response.text, \"html.parser\")\n",
        "table = soup.find(\"table\", class_=\"wikitable\")\n",
        "for row in table.find_all(\"tr\")[1:6]:\n",
        "  columns = row.find_all(\"td\")\n",
        "  country = columns[1].text.strip()\n",
        "  population = columns[2].text.strip()\n",
        "  print(f\"{country}: {population}\")"
      ],
      "metadata": {
        "colab": {
          "base_uri": "https://localhost:8080/"
        },
        "id": "vLr6NYleoCqH",
        "outputId": "535d7321-6a80-4ab2-851e-d5bc91ef1361"
      },
      "execution_count": 18,
      "outputs": [
        {
          "output_type": "stream",
          "name": "stdout",
          "text": [
            "World: 8,119,000,000\n",
            "China: 1,408,280,000\n",
            "1,402,737,000: 17.2%\n",
            "United States: 340,110,988\n",
            "Indonesia: 282,477,584\n"
          ]
        }
      ]
    },
    {
      "cell_type": "code",
      "source": [
        "from IPython.display import display,HTML\n"
      ],
      "metadata": {
        "id": "1BUPfH5Kn06-"
      },
      "execution_count": 19,
      "outputs": []
    },
    {
      "cell_type": "code",
      "source": [],
      "metadata": {
        "id": "qYjhjRkDpEnY"
      },
      "execution_count": null,
      "outputs": []
    },
    {
      "cell_type": "code",
      "source": [
        "display(HTML(\"\"\"\n",
        "  <center><p style=\"font-family:verdana\">This is a sample table</p>\n",
        "  <table>\n",
        "    <tr>\n",
        "      <th>Company</th>\n",
        "      <th>Contarct</th>\n",
        "      <th>Country</th>\n",
        "    </tr>\n",
        "    <tr>\n",
        "      <td>Alfreds Futterkiste</td>\n",
        "      <td>Maria Anders</td>\n",
        "      <td>Germany</td>\n",
        "    </tr>\n",
        "    <tr>\n",
        "      <td>Centro commercial Moctezuma</td>\n",
        "      <td>Francisco Chang</td>\n",
        "      <td>Mexico</td>\n",
        "    </tr>\n",
        "</table>\"\"\"))"
      ],
      "metadata": {
        "colab": {
          "base_uri": "https://localhost:8080/",
          "height": 111
        },
        "id": "Dpjd6hihoopF",
        "outputId": "8f75e82d-7e49-45d7-dc17-a373e342fe29"
      },
      "execution_count": 20,
      "outputs": [
        {
          "output_type": "display_data",
          "data": {
            "text/plain": [
              "<IPython.core.display.HTML object>"
            ],
            "text/html": [
              "\n",
              "  <center><p style=\"font-family:verdana\">This is a sample table</p>\n",
              "  <table>\n",
              "    <tr>\n",
              "      <th>Company</th>\n",
              "      <th>Contarct</th>\n",
              "      <th>Country</th>\n",
              "    </tr>\n",
              "    <tr>\n",
              "      <td>Alfreds Futterkiste</td>\n",
              "      <td>Maria Anders</td>\n",
              "      <td>Germany</td>\n",
              "    </tr>\n",
              "    <tr>\n",
              "      <td>Centro commercial Moctezuma</td>\n",
              "      <td>Francisco Chang</td>\n",
              "      <td>Mexico</td>\n",
              "    </tr>\n",
              "</table>"
            ]
          },
          "metadata": {}
        }
      ]
    }
  ]
}