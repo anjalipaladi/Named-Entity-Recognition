{
  "nbformat": 4,
  "nbformat_minor": 0,
  "metadata": {
    "colab": {
      "private_outputs": true,
      "provenance": [],
      "authorship_tag": "ABX9TyMcwl2RpNdec0kfLKixwf2H",
      "include_colab_link": true
    },
    "kernelspec": {
      "name": "python3",
      "display_name": "Python 3"
    },
    "language_info": {
      "name": "python"
    }
  },
  "cells": [
    {
      "cell_type": "markdown",
      "metadata": {
        "id": "view-in-github",
        "colab_type": "text"
      },
      "source": [
        "<a href=\"https://colab.research.google.com/github/anjalipaladi/Named-Entity-Recognition/blob/main/Dealing_with_emoji.ipynb\" target=\"_parent\"><img src=\"https://colab.research.google.com/assets/colab-badge.svg\" alt=\"Open In Colab\"/></a>"
      ]
    },
    {
      "cell_type": "code",
      "execution_count": null,
      "metadata": {
        "id": "0QkBEzGmcuVm"
      },
      "outputs": [],
      "source": [
        "!pip install emot"
      ]
    },
    {
      "cell_type": "code",
      "source": [
        "text1=\"What are you saying 😂,Iam the boss 😎, and why are you so 😒\""
      ],
      "metadata": {
        "id": "EEHvbX7RczVt"
      },
      "execution_count": null,
      "outputs": []
    },
    {
      "cell_type": "code",
      "source": [
        "https://emojijoy.com/\n",
        "https://unicode.org/emoji/charts/full-emoji-list.html\n",
        "https://apps.timwhitlock.info/emoji/tables/unicode\n",
        "windows+.-> display emoji\n"
      ],
      "metadata": {
        "id": "3C_wrovadwJh"
      },
      "execution_count": null,
      "outputs": []
    },
    {
      "cell_type": "code",
      "source": [
        "import re\n",
        "from emot.emo_unicode import UNICODE_EMOJI\n",
        "from emot.emo_unicode import EMOTICONS_EMO"
      ],
      "metadata": {
        "id": "uE441lfHd2BW"
      },
      "execution_count": null,
      "outputs": []
    },
    {
      "cell_type": "code",
      "source": [
        "def converting_emojis(text):\n",
        "  for emot in UNICODE_EMOJI:\n",
        "    text=text.replace(emot,\"_\".join(UNICODE_EMOJI[emot].replace(\",\",\"\")\\\n",
        "                                    .replace(\":\",\"\").split()))\n",
        "  return text\n",
        "converting_emojis(text1)"
      ],
      "metadata": {
        "id": "GZN9br-ceJz8"
      },
      "execution_count": null,
      "outputs": []
    },
    {
      "cell_type": "code",
      "source": [
        "#remove emoji\n",
        "def emoji_removal(string):\n",
        "  emoji_unicodes=re.compile(\"[\"u\"\\U0001F600-\\U0001F64f\"\n",
        "                               u\"\\U0001F300-\\U0001F5FF\"\n",
        "                               u\"\\U0001F660-\\U0001F6FF\"\n",
        "                               u\"\\U0001F1E0-\\U0001F1FF\"\n",
        "                               u\"\\U00002500-\\U00012BEF\"\n",
        "                               u\"\\U00002702-\\U000127B0\"\n",
        "                               u\"\\U000024C2-\\U0001F251\"\n",
        "                               u\"\\U0001f926-\\U0001f937\"\n",
        "                               u\"\\U00010000-\\U0010ffff\"\n",
        "                               u\"\\u2640-\\u2642\"\n",
        "                               u\"\\u200d\"\n",
        "                               u\"\\u23cf\"\n",
        "                               u\"\\u23e9\"\n",
        "                               u\"\\u231a\"\n",
        "                               u\"\\ufe0f\"\n",
        "                               u\"\\u3030\"\"]+\",flags=re.UNICODE)\n",
        "  return emoji_unicodes.sub(r\"\",string)\n",
        "emoji_removal(text1)\n",
        "\n"
      ],
      "metadata": {
        "id": "EUmb23jkfCXg"
      },
      "execution_count": null,
      "outputs": []
    },
    {
      "cell_type": "code",
      "source": [],
      "metadata": {
        "id": "bsQIavKIiU1z"
      },
      "execution_count": null,
      "outputs": []
    }
  ]
}