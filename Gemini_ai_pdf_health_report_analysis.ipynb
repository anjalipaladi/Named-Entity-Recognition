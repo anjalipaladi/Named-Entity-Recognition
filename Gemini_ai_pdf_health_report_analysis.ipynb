{
  "nbformat": 4,
  "nbformat_minor": 0,
  "metadata": {
    "colab": {
      "provenance": [],
      "authorship_tag": "ABX9TyMQ7omjJTkKbR6vup0YuaEP",
      "include_colab_link": true
    },
    "kernelspec": {
      "name": "python3",
      "display_name": "Python 3"
    },
    "language_info": {
      "name": "python"
    }
  },
  "cells": [
    {
      "cell_type": "markdown",
      "metadata": {
        "id": "view-in-github",
        "colab_type": "text"
      },
      "source": [
        "<a href=\"https://colab.research.google.com/github/anjalipaladi/Named-Entity-Recognition/blob/main/Gemini_ai_pdf_health_report_analysis.ipynb\" target=\"_parent\"><img src=\"https://colab.research.google.com/assets/colab-badge.svg\" alt=\"Open In Colab\"/></a>"
      ]
    },
    {
      "cell_type": "code",
      "execution_count": 1,
      "metadata": {
        "id": "2v3-sZgd926A"
      },
      "outputs": [],
      "source": [
        "import google.generativeai as genai\n",
        "from google.colab import userdata\n",
        "GOOGLE_API_KEY=userdata.get('GOOGLE_API_KEY')\n",
        "genai.configure(api_key=GOOGLE_API_KEY)\n"
      ]
    },
    {
      "cell_type": "code",
      "source": [
        "pip install PyPDF2"
      ],
      "metadata": {
        "colab": {
          "base_uri": "https://localhost:8080/"
        },
        "id": "3UTmUymE-Pzf",
        "outputId": "144b398b-1a69-4682-b83e-13b57120f6cd"
      },
      "execution_count": 2,
      "outputs": [
        {
          "output_type": "stream",
          "name": "stdout",
          "text": [
            "Collecting PyPDF2\n",
            "  Downloading pypdf2-3.0.1-py3-none-any.whl.metadata (6.8 kB)\n",
            "Downloading pypdf2-3.0.1-py3-none-any.whl (232 kB)\n",
            "\u001b[?25l   \u001b[90m━━━━━━━━━━━━━━━━━━━━━━━━━━━━━━━━━━━━━━━━\u001b[0m \u001b[32m0.0/232.6 kB\u001b[0m \u001b[31m?\u001b[0m eta \u001b[36m-:--:--\u001b[0m\r\u001b[2K   \u001b[90m━━━━━━━━━━━━━━━━━━━━━━━━━━━━━━━━━━━━━━━━\u001b[0m \u001b[32m232.6/232.6 kB\u001b[0m \u001b[31m12.2 MB/s\u001b[0m eta \u001b[36m0:00:00\u001b[0m\n",
            "\u001b[?25hInstalling collected packages: PyPDF2\n",
            "Successfully installed PyPDF2-3.0.1\n"
          ]
        }
      ]
    },
    {
      "cell_type": "code",
      "source": [
        "import PyPDF2\n",
        "def extract_text_from_pdf(pdf_path):\n",
        "  \"\"\"Extracts text from a given health report PDF using PyPDF2\"\"\"\n",
        "  text=\"\"\n",
        "  with open(pdf_path,'rb') as file:\n",
        "    reader=PyPDF2.PdfReader(file)\n",
        "    for page in reader.pages:\n",
        "      text+=page.extract_text() + \"\\n\"\n",
        "  return text\n",
        "\n"
      ],
      "metadata": {
        "id": "XVSWkG-C-WmK"
      },
      "execution_count": 3,
      "outputs": []
    },
    {
      "cell_type": "code",
      "source": [
        "def extract_health_insights(text):\n",
        "  \"\"\"Asks Gemini AI to extract key medical insights from the report\"\"\"\n",
        "  model=genai.GenerativeModel(\"gemini-1.5-flash\")\n",
        "  prompt=f\"Extract key insights from the following medical report:\\n\\n{text}\"\n",
        "  response=model.generate_content(prompt)\n",
        "  return response.text\n",
        "pdf_file=\"health_report.pdf\"\n",
        "extracted_text=extract_text_from_pdf(pdf_file)\n",
        "insights=extract_health_insights(extracted_text)\n",
        "print(\"Key Insightts:\\n\",insights)"
      ],
      "metadata": {
        "colab": {
          "base_uri": "https://localhost:8080/",
          "height": 471
        },
        "id": "UlxH00OnA-_X",
        "outputId": "c24c2603-ca7e-4976-e694-270bba0b0c5c"
      },
      "execution_count": 5,
      "outputs": [
        {
          "output_type": "stream",
          "name": "stdout",
          "text": [
            "Key Insightts:\n",
            " Mr. Kishan Goud's (MR Number: MR2100003157) medical report from February 1st, 2021, reveals the following key insights:\n",
            "\n",
            "**Infectious Disease Markers:**\n",
            "\n",
            "* **Widal Test:** Elevated titers for *Salmonella Typhi* \"O\" (1:160) and \"H\" (1:80), suggesting a possible past or current typhoid infection.  The reference range is significantly lower (1:20).  *Salmonella Paratyphi* \"AH\" and \"BH\" titers were within the normal range.\n",
            "* **Dengue Serology:** Negative results for Dengue NS1 antigen, IgG, and IgM antibodies, ruling out a recent or current dengue fever infection.\n",
            "* **Malaria Test:** Negative results for both *Plasmodium falciparum* and *Plasmodium vivax*, indicating the absence of malaria.\n",
            "\n",
            "**Hematology:**\n",
            "\n",
            "* **Complete Blood Picture (CBC):**  All values are within the normal range, except for slightly elevated ESR (26 mm/hr in the first hour, 52 mm/hr in the second), which could indicate inflammation.  Hemoglobin, RBC, WBC, platelets, and PCV are within acceptable limits.  Differential count shows normal ranges of neutrophils, lymphocytes, eosinophils, monocytes, and basophils.\n",
            "* **HbA1c:** 5.4%, indicating good blood glucose control (within the normal non-diabetic range).\n",
            "\n",
            "**Biochemistry:**\n",
            "\n",
            "* **Liver Function Test (LFT):** All liver function parameters (bilirubin, alkaline phosphatase, SGOT, SGPT, total protein, albumin, globulin, A/G ratio) are within normal ranges.\n",
            "* **Serum Electrolytes:** Sodium (122 mmol/l) is slightly low, while potassium and chloride levels are within normal ranges.  The sodium value is at the lower end of the normal range and should be monitored.\n",
            "* **Serum Creatinine:** 0.8 mg/dl, within the normal range, indicating normal kidney function.\n",
            "* **Random Blood Glucose:** The report is missing the actual value.\n",
            "\n",
            "**Overall:**\n",
            "\n",
            "The results suggest a past or possibly present typhoid infection (indicated by the Widal test).  Other tested infectious diseases (dengue and malaria) were ruled out.  The slightly elevated ESR suggests inflammation. The slightly low serum sodium warrants monitoring. Otherwise, the complete blood picture, HbA1c, LFTs, and other biochemical markers are within normal ranges.  Further investigation or clinical correlation may be necessary to fully understand the clinical significance of the elevated Widal test and slightly low sodium level.\n",
            "\n"
          ]
        }
      ]
    },
    {
      "cell_type": "code",
      "source": [
        "def summarize_health_report(text):\n",
        "  \"\"\"Summarizes the health report using Gemini AI\"\"\"\n",
        "  model=genai.GenerativeModel(\"gemini-1.5-flash\")\n",
        "  prompt=f\"Summarize the following medical report in a concise manner:\\n\\n{text}\"\n",
        "  response=model.generate_content(prompt)\n",
        "  return response.text\n",
        "summary=summarize_health_report(extracted_text)\n",
        "print(\"Summary:\\n\",summary)"
      ],
      "metadata": {
        "colab": {
          "base_uri": "https://localhost:8080/",
          "height": 89
        },
        "id": "YAngfgh3B9jK",
        "outputId": "4843d322-7a1c-48d5-ebec-d1374958f5fe"
      },
      "execution_count": 6,
      "outputs": [
        {
          "output_type": "stream",
          "name": "stdout",
          "text": [
            "Summary:\n",
            " Mr. Kishan Goud's (MRN: MR2100003157) blood tests on 01/02/2021 showed:  Elevated ESR (26/52 mm/hr),  negative results for typhoid, dengue, and malaria.  His complete blood count, HbA1c (5.4%), creatinine (0.8 mg/dl),  blood glucose, and liver function tests were within normal ranges except for slightly low serum sodium (122 mmol/l).  All results were reviewed by Arif.\n",
            "\n"
          ]
        }
      ]
    },
    {
      "cell_type": "code",
      "source": [
        "def detect_abnormalities(text):\n",
        "  \"\"\"Analyzes lab test results and flags abnormal values\"\"\"\n",
        "  model=genai.GenerativeModel(\"gemini-1.5-flash\")\n",
        "  prompt=f\"Analyze the  lab test results in the following health report and highlight any abnormal values:\\n\\n{text}\"\n",
        "  response=model.generate_content(prompt)\n",
        "  return response.text\n",
        "abnormalities=detect_abnormalities(extracted_text)\n",
        "print(\"Potential Abnormalities:\\n\",summary)"
      ],
      "metadata": {
        "colab": {
          "base_uri": "https://localhost:8080/",
          "height": 89
        },
        "id": "8wTJWYLbFYCW",
        "outputId": "c90f17c0-6425-4207-d720-d2a5dc9b42a3"
      },
      "execution_count": 7,
      "outputs": [
        {
          "output_type": "stream",
          "name": "stdout",
          "text": [
            "Potential Abnormalities:\n",
            " Mr. Kishan Goud's (MRN: MR2100003157) blood tests on 01/02/2021 showed:  Elevated ESR (26/52 mm/hr),  negative results for typhoid, dengue, and malaria.  His complete blood count, HbA1c (5.4%), creatinine (0.8 mg/dl),  blood glucose, and liver function tests were within normal ranges except for slightly low serum sodium (122 mmol/l).  All results were reviewed by Arif.\n",
            "\n"
          ]
        }
      ]
    },
    {
      "cell_type": "code",
      "source": [
        "def explain_medical_terms(text):\n",
        "  \"\"\"Asks Gemini AI to simplify medical terms for patient understanding\"\"\"\n",
        "  model=genai.GenerativeModel(\"gemini-1.5-flash\")\n",
        "  prompt=f\"Explain the medical terms in the following health report in simple language:\\n\\n{text}\"\n",
        "  response=model.generate_content(prompt)\n",
        "  return response.text\n",
        "explanation=explain_medical_terms(extracted_text)\n",
        "print(\"Simplified Explanation:\\n\",explanation)"
      ],
      "metadata": {
        "colab": {
          "base_uri": "https://localhost:8080/",
          "height": 1000
        },
        "id": "tyCUbYWTHpSj",
        "outputId": "453a404d-6590-4c64-c920-27db22e8b1ee"
      },
      "execution_count": 8,
      "outputs": [
        {
          "output_type": "stream",
          "name": "stdout",
          "text": [
            "Simplified Explanation:\n",
            " This report shows the results of various blood tests performed on Mr. Kishan Goud. Let's break down each section:\n",
            "\n",
            "**1. Widal Test:** This test checks for antibodies against *Salmonella Typhi* and *Salmonella Paratyphi*, bacteria that cause typhoid fever and paratyphoid fever.  The numbers (e.g., 1:160) represent the dilution of the blood sample at which antibodies were still detected.  Higher numbers suggest a greater likelihood of infection.\n",
            "\n",
            "* **S. Typhi \"O\" 1:160:**  Indicates a possible past or present infection with *Salmonella Typhi*.  The \"O\" refers to a specific part of the bacteria.  1:160 is a relatively high titer, suggesting a significant response.\n",
            "* **S. Typhi \"H\" 1:80:** Also suggests possible past or present *Salmonella Typhi* infection.  The \"H\" refers to another part of the bacteria.\n",
            "* **S. Paratyphi \"AH\" 1:20:**  The result is within the normal range, suggesting no significant infection with this *Salmonella* type.\n",
            "* **S. Paratyphi \"BH\" 1:20:** The result is within the normal range, suggesting no significant infection with this *Salmonella* type.\n",
            "\n",
            "\n",
            "**2. Dengue Serology:** This tests for dengue fever, a viral infection spread by mosquitoes.\n",
            "\n",
            "* **Dengue NS1 Antigen:** Negative –  No dengue virus protein was found.\n",
            "* **Dengue IgG:** Negative –  No antibodies indicating past dengue infection were found.\n",
            "* **Dengue IgM:** Negative – No antibodies indicating a recent dengue infection were found.  (Negative results for all three tests strongly suggest no current or recent dengue infection.)\n",
            "\n",
            "\n",
            "**3. Erythrocyte Sedimentation Rate (ESR):** This measures how quickly red blood cells settle in a test tube. A higher ESR can indicate inflammation or infection in the body.\n",
            "\n",
            "* **ESR 1st Hour 26 mm/hr:**  Slightly elevated.  The normal range is 0-8 mm/hr.\n",
            "* **ESR 2nd Hour 52 mm/hr:**  Significantly elevated.\n",
            "\n",
            "**4. Rapid Malaria Test:** This test screens for malaria parasites.\n",
            "\n",
            "* **P.V Negative:** Negative for *Plasmodium vivax*, a type of malaria parasite.\n",
            "* **P.F Negative:** Negative for *Plasmodium falciparum*, another type of malaria parasite.\n",
            "\n",
            "\n",
            "**5. Complete Blood Picture (CBC):** This provides a comprehensive analysis of the blood.\n",
            "\n",
            "* **Hemoglobin (Hb):** 13.6 gms% (within normal range). This measures the oxygen-carrying capacity of the blood.\n",
            "* **Red Blood Cells (RBC):** 4.3 mill/cumm (slightly low, but within the range of normal).\n",
            "* **White Blood Cells (WBC):** 7,200 cells/cumm (within normal range). These fight infection.\n",
            "* **Platelet Count:** 2.0 lakhs/cumm (within normal range). These help with blood clotting.\n",
            "* **Packed Cell Volume (PCV):** 40.5% (within normal range). This is the percentage of red blood cells in the blood.\n",
            "* **Differential Count:** This breaks down the types of white blood cells. All are within normal ranges.\n",
            "* **Peripheral Blood Smear:**  A microscopic examination of the blood, showing normal red and white blood cell morphology and an adequate platelet count.\n",
            "\n",
            "\n",
            "**6. HbA1c:** This test measures average blood sugar levels over the past 2-3 months.\n",
            "\n",
            "* **HbA1c 5.4%:**  This is within the normal non-diabetic range, indicating good blood sugar control.\n",
            "\n",
            "\n",
            "**7. Serum Creatinine:** This measures kidney function.\n",
            "\n",
            "* **Serum Creatinine 0.8 mg/dl:** Within the normal range, indicating good kidney function.\n",
            "\n",
            "\n",
            "**8. Random Blood Glucose:** This measures blood sugar at a random time.\n",
            "\n",
            "* **Random Blood Glucose:** The result is missing from the provided text.\n",
            "\n",
            "\n",
            "**9. Liver Function Test (LFT):** These tests assess liver health. All values are within the normal range.\n",
            "\n",
            "\n",
            "* **Total Bilirubin:** Measures the total amount of bilirubin (a byproduct of red blood cell breakdown) in the blood.\n",
            "* **Direct Bilirubin:** Measures the conjugated bilirubin fraction.\n",
            "* **Indirect Bilirubin:** Measures the unconjugated bilirubin fraction.\n",
            "* **Alkaline Phosphatase (ALP):** An enzyme found in the liver and bones.\n",
            "* **SGOT (AST):**  Aspartate aminotransferase, a liver enzyme.\n",
            "* **SGPT (ALT):** Alanine aminotransferase, another liver enzyme.\n",
            "* **Total Protein:** Total protein level in the blood.\n",
            "* **Albumin:** A type of protein made by the liver.\n",
            "* **Globulin:** Another type of protein in the blood.\n",
            "* **A/G Ratio:** The ratio of albumin to globulin.\n",
            "\n",
            "\n",
            "**10. Serum Electrolytes:** These measure the levels of essential minerals in the blood.\n",
            "\n",
            "* **Serum Sodium:** Slightly low, but within a range considered borderline.  Further monitoring might be indicated.\n",
            "* **Serum Potassium:** Within the normal range.\n",
            "* **Serum Chloride:** Slightly low, but within a range considered borderline. Further monitoring might be indicated.\n",
            "\n",
            "\n",
            "**In summary:**  The results show some mildly elevated values (ESR and slightly low serum sodium and chloride), but most tests are within normal ranges.  The elevated ESR warrants further investigation to determine the underlying cause. The doctor will interpret these results in the context of Mr. Kishan Goud's symptoms and medical history to make a diagnosis.\n",
            "\n"
          ]
        }
      ]
    },
    {
      "cell_type": "code",
      "source": [],
      "metadata": {
        "id": "H4MW80hLIt5e"
      },
      "execution_count": null,
      "outputs": []
    }
  ]
}