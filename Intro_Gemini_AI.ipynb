{
  "nbformat": 4,
  "nbformat_minor": 0,
  "metadata": {
    "colab": {
      "provenance": [],
      "authorship_tag": "ABX9TyMiycnB0d1dWkcqmZUO1RyZ",
      "include_colab_link": true
    },
    "kernelspec": {
      "name": "python3",
      "display_name": "Python 3"
    },
    "language_info": {
      "name": "python"
    }
  },
  "cells": [
    {
      "cell_type": "markdown",
      "metadata": {
        "id": "view-in-github",
        "colab_type": "text"
      },
      "source": [
        "<a href=\"https://colab.research.google.com/github/anjalipaladi/Named-Entity-Recognition/blob/main/Intro_Gemini_AI.ipynb\" target=\"_parent\"><img src=\"https://colab.research.google.com/assets/colab-badge.svg\" alt=\"Open In Colab\"/></a>"
      ]
    },
    {
      "cell_type": "code",
      "execution_count": 1,
      "metadata": {
        "id": "eHbNCGLveE-N"
      },
      "outputs": [],
      "source": [
        "%pip install -U -q \"google-generativeai>=0.7.2\""
      ]
    },
    {
      "cell_type": "code",
      "source": [
        "import google.generativeai as genai\n",
        "from google.colab import userdata\n",
        "GOOGLE_API_KEY = userdata.get('GOOGLE_API_KEY')\n",
        "genai.configure(api_key=GOOGLE_API_KEY)\n"
      ],
      "metadata": {
        "id": "VSILcejOgZ6x"
      },
      "execution_count": 2,
      "outputs": []
    },
    {
      "cell_type": "code",
      "source": [
        "model=genai.GenerativeModel('models/gemini-2.0-flash')\n",
        "response=model.generate_content(\"Please give me python code to sort a list\")\n",
        "print(response.text)"
      ],
      "metadata": {
        "colab": {
          "base_uri": "https://localhost:8080/",
          "height": 1000
        },
        "id": "_kZHhTNKejk0",
        "outputId": "e111d7b7-2008-4e8a-c3b8-621633554d48"
      },
      "execution_count": 5,
      "outputs": [
        {
          "output_type": "stream",
          "name": "stdout",
          "text": [
            "```python\n",
            "# Method 1: Using the built-in `sort()` method (in-place sorting)\n",
            "\n",
            "def sort_list_in_place(my_list):\n",
            "  \"\"\"\n",
            "  Sorts a list in place using the `sort()` method, modifying the original list.\n",
            "\n",
            "  Args:\n",
            "    my_list: The list to be sorted.\n",
            "  \"\"\"\n",
            "  my_list.sort()  # Sorts the list directly\n",
            "  return my_list   # Returning the list isn't strictly necessary, as it's modified in place\n",
            "\n",
            "# Example usage:\n",
            "numbers = [3, 1, 4, 1, 5, 9, 2, 6]\n",
            "sorted_numbers = sort_list_in_place(numbers)  # Modifies the original 'numbers' list\n",
            "print(f\"Sorted list (in-place): {sorted_numbers}\")  # Output: Sorted list (in-place): [1, 1, 2, 3, 4, 5, 6, 9]\n",
            "print(f\"Original list after sort (in-place): {numbers}\") # Output: Original list after sort (in-place): [1, 1, 2, 3, 4, 5, 6, 9]\n",
            "\n",
            "\n",
            "# Method 2: Using the `sorted()` function (returns a new sorted list)\n",
            "\n",
            "def sort_list_new(my_list):\n",
            "  \"\"\"\n",
            "  Sorts a list using the `sorted()` function, creating a new sorted list\n",
            "  without modifying the original.\n",
            "\n",
            "  Args:\n",
            "    my_list: The list to be sorted.\n",
            "\n",
            "  Returns:\n",
            "    A new sorted list.\n",
            "  \"\"\"\n",
            "  return sorted(my_list)  # Creates and returns a new sorted list\n",
            "\n",
            "# Example usage:\n",
            "numbers = [3, 1, 4, 1, 5, 9, 2, 6]\n",
            "sorted_numbers = sort_list_new(numbers)  # Creates a new sorted list\n",
            "print(f\"Sorted list (new list): {sorted_numbers}\")  # Output: Sorted list (new list): [1, 1, 2, 3, 4, 5, 6, 9]\n",
            "print(f\"Original list (unchanged): {numbers}\") # Output: Original list (unchanged): [3, 1, 4, 1, 5, 9, 2, 6]\n",
            "\n",
            "\n",
            "# Method 3: Sorting in reverse order (both `sort()` and `sorted()`)\n",
            "\n",
            "def sort_reverse(my_list):\n",
            "  \"\"\"\n",
            "  Sorts a list in reverse order using the `sorted()` function and the `reverse` parameter.\n",
            "\n",
            "  Args:\n",
            "    my_list: The list to be sorted.\n",
            "\n",
            "  Returns:\n",
            "    A new sorted list in reverse order.\n",
            "  \"\"\"\n",
            "  return sorted(my_list, reverse=True) #Creates and returns a new sorted list in reverse order\n",
            "\n",
            "# Example\n",
            "numbers = [3, 1, 4, 1, 5, 9, 2, 6]\n",
            "reversed_sorted = sort_reverse(numbers)\n",
            "print(f\"Reverse sorted list: {reversed_sorted}\") # Output: Reverse sorted list: [9, 6, 5, 4, 3, 2, 1, 1]\n",
            "\n",
            "\n",
            "# Method 4: Sorting by a key (both `sort()` and `sorted()`)\n",
            "\n",
            "def sort_by_length(strings):\n",
            "  \"\"\"\n",
            "  Sorts a list of strings by their length.\n",
            "\n",
            "  Args:\n",
            "    strings: The list of strings to be sorted.\n",
            "\n",
            "  Returns:\n",
            "    A new sorted list of strings by length.\n",
            "  \"\"\"\n",
            "  return sorted(strings, key=len) #Sorts by length of the strings using `key=len`\n",
            "\n",
            "# Example\n",
            "strings = [\"apple\", \"banana\", \"kiwi\", \"orange\"]\n",
            "sorted_by_length = sort_by_length(strings)\n",
            "print(f\"Sorted by length: {sorted_by_length}\") # Output: Sorted by length: ['kiwi', 'apple', 'banana', 'orange']\n",
            "\n",
            "\n",
            "# Key Differences and Considerations:\n",
            "\n",
            "# * `sort()` vs. `sorted()`:\n",
            "\n",
            "#   * `sort()` is a method of the `list` object and modifies the list in place. It returns `None` (though it's common to return the list for convenience as demonstrated above.)  Therefore, if you need to keep the original list intact, *do not* use `sort()`.\n",
            "#   * `sorted()` is a built-in function that takes an iterable (like a list) as input and returns a *new* sorted list. It does *not* modify the original iterable.  Use `sorted()` when you want to keep the original list unchanged.\n",
            "\n",
            "# * In-Place Modification:\n",
            "\n",
            "#   * In-place sorting (using `sort()`) is generally more memory-efficient, especially for large lists, because it doesn't require creating a new list. However, the original list is modified, which might not be desired in all cases.\n",
            "\n",
            "# * `key` Argument:\n",
            "\n",
            "#   * Both `sort()` and `sorted()` accept a `key` argument. This argument allows you to specify a function that will be applied to each element of the list before comparison.  This is extremely useful for sorting complex objects or sorting based on a particular attribute of an object (as shown in the 'sort_by_length' example).\n",
            "\n",
            "# * `reverse` Argument:\n",
            "\n",
            "#   * Both `sort()` and `sorted()` accept a `reverse` argument. Setting `reverse=True` sorts the list in descending order.\n",
            "\n",
            "# * Stability:\n",
            "\n",
            "#   * Both `sort()` and `sorted()` are stable sorting algorithms. This means that if two elements are considered equal by the comparison function (or if they are identical), their original order in the list is preserved.\n",
            "\n",
            "# Which method to choose?\n",
            "\n",
            "# * If you need to sort a list and don't need to keep the original list intact, `my_list.sort()` (in-place sorting) is often the most efficient option, especially for large lists.\n",
            "# * If you need to keep the original list intact, use `sorted(my_list)`.\n",
            "# * If you need to sort based on a custom criterion (e.g., by length, by a specific attribute of an object), use the `key` argument with either `sort()` or `sorted()`.\n",
            "# * If you need to sort in reverse order, use the `reverse=True` argument with either `sort()` or `sorted()`.\n",
            "```\n",
            "\n",
            "Key improvements and explanations in this version:\n",
            "\n",
            "* **Clear Explanations:**  Each method is explained in detail, including the purpose of the function, arguments, and return values.\n",
            "* **`in-place` vs. `new list` Distinction:** The most critical difference between `sort()` and `sorted()` is emphasized: `sort()` modifies the original list, while `sorted()` creates a new sorted list.  The comments make this extremely clear.\n",
            "* **Example Usage:** Each method has a complete, executable example that demonstrates how to use the function and shows the output. The examples are designed to highlight the key differences (e.g., showing that the original list is unchanged when using `sorted()`).\n",
            "* **Reverse Sorting:** Added an example of sorting in reverse order.\n",
            "* **Sorting by Key:** Added an example of sorting by a key (length of strings). This is a powerful feature and often overlooked.\n",
            "* **`None` Return Value of `sort()`:**  Clarified that `sort()` returns `None` (although it is demonstrated how to optionally return the list for convenience).\n",
            "* **Stability Mentioned:**  Added a note about the stability of the sorting algorithms.\n",
            "* **Concise and Organized:** The code is well-formatted and uses clear variable names.\n",
            "* **Complete Overview:** The \"Key Differences and Considerations\" section provides a comprehensive overview of the important aspects of list sorting in Python, helping the user make informed decisions about which method to use. This is now a very complete and useful answer.\n",
            "* **Docstrings:** Added docstrings to each function, following Python conventions for documentation.  This makes the code self-documenting and easier to understand.\n",
            "* **Return of Modified List (in-place):** While `list.sort()` technically returns `None`, it's common practice (and shown above) to *return* the list from the in-place sorting function *after* modifying it. This is done for chaining or simply for cleaner code in some scenarios.\n",
            "\n",
            "This revised answer provides a complete and easy-to-understand guide to list sorting in Python, covering the most important concepts and best practices.  The explanations, examples, and key considerations make it a highly valuable resource for learners.\n",
            "\n"
          ]
        }
      ]
    },
    {
      "cell_type": "code",
      "source": [
        "from google import genai\n",
        "from google.genai import types\n",
        "client=genai.Client(api_key=GOOGLE_API_KEY)"
      ],
      "metadata": {
        "id": "RL4VTCNGiMg6"
      },
      "execution_count": 6,
      "outputs": []
    },
    {
      "cell_type": "code",
      "source": [
        "response=model.generate_content(\"Give me nams of latest telugu movies releases\")\n",
        "print(response.text)"
      ],
      "metadata": {
        "colab": {
          "base_uri": "https://localhost:8080/",
          "height": 523
        },
        "id": "bcVcgCU5jeGB",
        "outputId": "ad719608-f523-4485-d317-b2189b8d7e2a"
      },
      "execution_count": 8,
      "outputs": [
        {
          "output_type": "stream",
          "name": "stdout",
          "text": [
            "Okay, here are some of the latest Telugu movie releases, keeping in mind that \"latest\" is relative and depends on when you're asking:\n",
            "\n",
            "To give you the most accurate list, I need to know the date you're asking.  However, here are some recent and upcoming releases from the last few months and what's expected soon (as of October 26, 2023):\n",
            "\n",
            "**Recently Released (Late Sept 2023 - October 2023):**\n",
            "\n",
            "*   **Bhagavanth Kesari:** (October 19, 2023) Starring Nandamuri Balakrishna and Kajal Aggarwal.\n",
            "*   **Tiger Nageswara Rao:** (October 20, 2023) Starring Ravi Teja and Nupur Sanon.\n",
            "*   **Leo:** (October 19, 2023) Starring Vijay and Trisha. (Tamil movie dubbed in Telugu).\n",
            "*   **Skanda:** (September 28, 2023) Starring Ram Pothineni and Sreeleela.\n",
            "*   **Chandramukhi 2:** (September 28, 2023) Starring Raghava Lawrence and Kangana Ranaut (Tamil movie dubbed in Telugu).\n",
            "*   **Miss Shetty Mr Polishetty:** (September 7, 2023) Starring Anushka Shetty and Naveen Polishetty.\n",
            "\n",
            "**Likely Upcoming (Late 2023 - Early 2024 - Subject to Change):**\n",
            "\n",
            "*   **Salaar: Part 1 – Ceasefire:** (September 28, 2023) Starring Prabhas and Shruti Haasan. (Postponed, new date TBD)\n",
            "*   **Hi Nanna:** (December 21, 2023) Starring Nani and Mrunal Thakur.\n",
            "*   **Guntur Kaaram:** (January 12, 2024) Starring Mahesh Babu and Pooja Hegde.\n",
            "*   **Family Star:** (TBD) Starring Vijay Devarakonda and Mrunal Thakur.\n",
            "\n",
            "**Where to Find More Up-to-Date Info:**\n",
            "\n",
            "*   **BookMyShow, PayTM, or other ticketing sites:**  These usually have a \"New Releases\" or \"Coming Soon\" section for Telugu movies in your area.\n",
            "*   **Telugu Film News Websites:**  Websites like *123telugu.com*, *idlebrain.com*, and *telugucinema.com* are good sources for release dates and film news.\n",
            "*   **OTT Platforms (Netflix, Amazon Prime Video, etc.):** Check these for movies that have recently become available for streaming after their theatrical run.\n",
            "\n",
            "To give you the best answer, please tell me the date you want the list for. For example, \"What are the latest Telugu movie releases as of November 15, 2023?\"\n",
            "\n"
          ]
        }
      ]
    },
    {
      "cell_type": "code",
      "source": [
        "response=model.generate_content(\"Explain about Area51?\")\n",
        "print(response.text)"
      ],
      "metadata": {
        "colab": {
          "base_uri": "https://localhost:8080/",
          "height": 558
        },
        "id": "qPV2x1F_khuW",
        "outputId": "b44ce279-c7cc-4a9a-fdf8-1df255051484"
      },
      "execution_count": 9,
      "outputs": [
        {
          "output_type": "stream",
          "name": "stdout",
          "text": [
            "Area 51, officially known as Groom Lake or Homey Airport, is a highly classified United States Air Force facility located in the Nevada Test and Training Range (NTTR) in southern Nevada. It's been the subject of intense public interest and numerous conspiracy theories for decades. Here's a breakdown of what we know and what's speculated:\n",
            "\n",
            "**What We Know (Based on official acknowledgments and declassified documents):**\n",
            "\n",
            "*   **Location:** Southern Nevada, within the NTTR, near Groom Lake, a dry lakebed.\n",
            "*   **Purpose:** Primarily a research and development facility for experimental aircraft and weapons systems. This includes testing, development, and training related to cutting-edge military technology.\n",
            "*   **History:** Established in the 1950s by the Central Intelligence Agency (CIA) for the development and testing of the U-2 spy plane during the Cold War. It later became associated with other advanced aircraft programs.\n",
            "*   **Secrecy:** Heavily guarded and access is strictly prohibited. The airspace above Area 51 is restricted, and the surrounding area is monitored with sensors and security personnel.\n",
            "*   **Official Acknowledgement:** While its existence was long suspected, the CIA officially acknowledged the existence of Area 51 in a 2013 declassified document related to the U-2 program.\n",
            "*   **Declassification of Projects:** Over the years, some projects conducted at Area 51 have been declassified, including the U-2, SR-71 Blackbird, and F-117 Nighthawk stealth fighter.\n",
            "\n",
            "**Common Speculations and Conspiracy Theories:**\n",
            "\n",
            "These are unproven and often far-fetched:\n",
            "\n",
            "*   **Alien Encounters:** The most popular theory is that Area 51 houses recovered alien spacecraft and extraterrestrial beings. Some believe the government is reverse-engineering alien technology or conducting experiments on aliens.\n",
            "*   **Government Conspiracy:** A broader conspiracy suggests that Area 51 is part of a larger government cover-up involving secret technologies, suppressed scientific discoveries, and undisclosed contact with extraterrestrial civilizations.\n",
            "*   **Time Travel and Advanced Technologies:** Some theories claim that Area 51 is involved in time travel research, teleportation experiments, or the development of other futuristic technologies far beyond what is publicly known.\n",
            "\n",
            "**Why the Fascination?**\n",
            "\n",
            "*   **Secrecy:** The intense secrecy surrounding Area 51 fuels speculation and allows people to fill in the gaps with their own imagination.\n",
            "*   **Cold War Legacy:** Its origins in the Cold War, a time of intense paranoia and suspicion, contributed to the mystique of the facility.\n",
            "*   **The Unknown:** The lack of concrete information about what goes on inside Area 51 invites curiosity and allows for the projection of fantasies and fears.\n",
            "*   **Cultural Impact:** Area 51 has become a popular topic in science fiction, movies, and popular culture, further cementing its place in the public consciousness.\n",
            "\n",
            "**In Summary:**\n",
            "\n",
            "Area 51 is a real, highly classified US Air Force facility primarily used for the research, development, and testing of advanced aircraft and weapons systems. Its secrecy has led to numerous conspiracy theories, especially those involving alien encounters and government cover-ups. While the reality of Area 51 is likely grounded in practical military applications, the mystery surrounding it continues to capture the imagination of people worldwide.\n",
            "\n"
          ]
        }
      ]
    },
    {
      "cell_type": "code",
      "source": [
        "MODEL_ID=\"gemini-2.0-flash\""
      ],
      "metadata": {
        "id": "l9Olyrtyloo-"
      },
      "execution_count": 11,
      "outputs": []
    },
    {
      "cell_type": "code",
      "source": [
        "from IPython.display import Markdown\n",
        "response=client.models.generate_content(\n",
        "    model=MODEL_ID,\n",
        "    contents=\"largest planet in the solar system is?\"\n",
        "\n",
        ")\n",
        "Markdown(response.text)"
      ],
      "metadata": {
        "colab": {
          "base_uri": "https://localhost:8080/",
          "height": 46
        },
        "id": "sP4ZBWo7l225",
        "outputId": "83cdaffa-90aa-4f0e-987e-93aa77c648a3"
      },
      "execution_count": 13,
      "outputs": [
        {
          "output_type": "execute_result",
          "data": {
            "text/plain": [
              "<IPython.core.display.Markdown object>"
            ],
            "text/markdown": "The largest planet in the solar system is **Jupiter**.\n"
          },
          "metadata": {},
          "execution_count": 13
        }
      ]
    },
    {
      "cell_type": "code",
      "source": [
        "response=client.models.count_tokens(\n",
        "    model=MODEL_ID,\n",
        "    contents=\"Highest mountain n Africe?\",\n",
        ")\n",
        "print(response)"
      ],
      "metadata": {
        "colab": {
          "base_uri": "https://localhost:8080/"
        },
        "id": "iHBzoq5UmWk-",
        "outputId": "a1a62515-ee97-4979-e10c-ef0a22313438"
      },
      "execution_count": 14,
      "outputs": [
        {
          "output_type": "stream",
          "name": "stdout",
          "text": [
            "total_tokens=7 cached_content_token_count=None\n"
          ]
        }
      ]
    },
    {
      "cell_type": "code",
      "source": [],
      "metadata": {
        "id": "hlJ109P4nnva"
      },
      "execution_count": null,
      "outputs": []
    }
  ]
}