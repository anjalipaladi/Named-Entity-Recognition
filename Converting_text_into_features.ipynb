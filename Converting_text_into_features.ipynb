{
  "nbformat": 4,
  "nbformat_minor": 0,
  "metadata": {
    "colab": {
      "private_outputs": true,
      "provenance": [],
      "authorship_tag": "ABX9TyMO2BxdrFRzzM/A2EcbH0p1",
      "include_colab_link": true
    },
    "kernelspec": {
      "name": "python3",
      "display_name": "Python 3"
    },
    "language_info": {
      "name": "python"
    }
  },
  "cells": [
    {
      "cell_type": "markdown",
      "metadata": {
        "id": "view-in-github",
        "colab_type": "text"
      },
      "source": [
        "<a href=\"https://colab.research.google.com/github/anjalipaladi/Named-Entity-Recognition/blob/main/Converting_text_into_features.ipynb\" target=\"_parent\"><img src=\"https://colab.research.google.com/assets/colab-badge.svg\" alt=\"Open In Colab\"/></a>"
      ]
    },
    {
      "cell_type": "code",
      "execution_count": null,
      "metadata": {
        "id": "IpV-Z8ATlkU0"
      },
      "outputs": [],
      "source": [
        "Text=\"Iam learning NLP\""
      ]
    },
    {
      "cell_type": "code",
      "source": [
        "import pandas as pd\n",
        "pd.get_dummies(Text.split())"
      ],
      "metadata": {
        "id": "TShmTFa5l_6V"
      },
      "execution_count": null,
      "outputs": []
    },
    {
      "cell_type": "markdown",
      "source": [
        "Converting text into features using count Vectorizer"
      ],
      "metadata": {
        "id": "GApgNSDsmTsk"
      }
    },
    {
      "cell_type": "code",
      "source": [
        "text=['i love NLP and i will learn NLP in 2 month']\n"
      ],
      "metadata": {
        "id": "FzHD0E4GmCZg"
      },
      "execution_count": null,
      "outputs": []
    },
    {
      "cell_type": "code",
      "source": [
        "from sklearn.feature_extraction.text import CountVectorizer\n",
        "vectorizer=CountVectorizer()\n",
        "vectorizer.fit(text)\n",
        "vector=vectorizer.transform(text)"
      ],
      "metadata": {
        "id": "oV8Nxgw3maPI"
      },
      "execution_count": null,
      "outputs": []
    },
    {
      "cell_type": "code",
      "source": [
        "print(vectorizer.vocabulary_)\n",
        "print(vector.toarray())"
      ],
      "metadata": {
        "id": "eCUhpxTzmxle"
      },
      "execution_count": null,
      "outputs": []
    },
    {
      "cell_type": "code",
      "source": [
        "print(vector)"
      ],
      "metadata": {
        "id": "H3KYQE8XnB9x"
      },
      "execution_count": null,
      "outputs": []
    },
    {
      "cell_type": "code",
      "source": [
        "Countvectorizer"
      ],
      "metadata": {
        "id": "1h-eXZ2QnEzH"
      },
      "execution_count": null,
      "outputs": []
    },
    {
      "cell_type": "code",
      "source": [
        "df=pd.DataFrame(data=vector.toarray(),columns=vectorizer.get_feature_names_out())\n",
        "df"
      ],
      "metadata": {
        "id": "wWQhuPL5oPiQ"
      },
      "execution_count": null,
      "outputs": []
    },
    {
      "cell_type": "markdown",
      "source": [
        "N-Grams"
      ],
      "metadata": {
        "id": "NXq0LWbWpjtK"
      }
    },
    {
      "cell_type": "code",
      "source": [
        "text=\"I am learning NLP\""
      ],
      "metadata": {
        "id": "E9YnrbWwo2oh"
      },
      "execution_count": null,
      "outputs": []
    },
    {
      "cell_type": "code",
      "source": [
        "from textblob import TextBlob\n",
        "TextBlob(text).ngrams(1)"
      ],
      "metadata": {
        "id": "d5nqfQaFpkxc"
      },
      "execution_count": null,
      "outputs": []
    },
    {
      "cell_type": "code",
      "source": [
        "import nltk\n",
        "nltk.download('punkt_tab')"
      ],
      "metadata": {
        "id": "mByKnUxcp59M"
      },
      "execution_count": null,
      "outputs": []
    },
    {
      "cell_type": "code",
      "source": [
        "pip install textblob"
      ],
      "metadata": {
        "id": "drOHQHKzqBkn"
      },
      "execution_count": null,
      "outputs": []
    },
    {
      "cell_type": "code",
      "source": [
        "TextBlob(text).ngrams(2)"
      ],
      "metadata": {
        "id": "WvFTZJq0qHLM"
      },
      "execution_count": null,
      "outputs": []
    },
    {
      "cell_type": "code",
      "source": [
        "TextBlob(text).ngrams(3)"
      ],
      "metadata": {
        "id": "Ibd7bvfmqNHL"
      },
      "execution_count": null,
      "outputs": []
    },
    {
      "cell_type": "code",
      "source": [
        "TextBlob(text).ngrams(4)"
      ],
      "metadata": {
        "id": "CRt6sXFVqzNw"
      },
      "execution_count": null,
      "outputs": []
    },
    {
      "cell_type": "markdown",
      "source": [
        "Converting Text to Features Using TF-IDF Vectorizer"
      ],
      "metadata": {
        "id": "t5lNuST4q2uS"
      }
    },
    {
      "cell_type": "code",
      "source": [
        "Text=[\"The quick brown fox jumped over the lazy dog \",\"The dog\",\"The fox\"]"
      ],
      "metadata": {
        "id": "ylhfoj8rq021"
      },
      "execution_count": null,
      "outputs": []
    },
    {
      "cell_type": "code",
      "source": [
        "from sklearn.feature_extraction.text import TfidfVectorizer\n",
        "vectorizer=TfidfVectorizer()\n",
        "vectorizer.fit(Text)\n",
        "print(vectorizer.vocabulary_)\n",
        "print(vectorizer.idf_)"
      ],
      "metadata": {
        "id": "4DDF7tomq85L"
      },
      "execution_count": null,
      "outputs": []
    },
    {
      "cell_type": "code",
      "source": [],
      "metadata": {
        "id": "JNMAawaasd0f"
      },
      "execution_count": null,
      "outputs": []
    }
  ]
}